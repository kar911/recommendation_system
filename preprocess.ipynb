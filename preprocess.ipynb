{
 "cells": [
  {
   "cell_type": "code",
   "execution_count": 65,
   "id": "3c297172-c15f-4290-b645-cda5bf6d9501",
   "metadata": {
    "tags": []
   },
   "outputs": [],
   "source": [
    "import streamlit as st\n",
    "import pandas as pd\n",
    "from sklearn.metrics.pairwise import cosine_similarity\n",
    "from sklearn.feature_extraction.text import CountVectorizer\n",
    "import nltk\n",
    "from nltk.corpus import stopwords\n",
    "from nltk.tokenize import word_tokenize\n",
    "import string\n",
    "import re\n",
    "import numpy as np\n",
    "df = pd.read_csv('/home/kar911/programming1/recommendation_system/cleaned.csv')\n",
    "df=df.dropna(axis=0,how='any',subset=['clean_sorted'])"
   ]
  },
  {
   "cell_type": "code",
   "execution_count": null,
   "id": "1776310c-2d52-435e-ae26-e4444acb890d",
   "metadata": {
    "tags": []
   },
   "outputs": [],
   "source": [
    "['level', #one hot\n",
    "  'subject',#one hot\n",
    " 'Free/Paid'#one hot\n",
    " 'rating',\n",
    " 'price',\n",
    " 'subject',#one hot\n",
    " 'Free/Paid'#one hot\n",
    "]"
   ]
  },
  {
   "cell_type": "code",
   "execution_count": null,
   "id": "14d370ca-e6cc-4c9e-8fb3-2fedd4a3af0d",
   "metadata": {},
   "outputs": [],
   "source": [
    "from scipy.sparse import csr_matrix"
   ]
  },
  {
   "cell_type": "code",
   "execution_count": null,
   "id": "9f4ed64d-25c9-48f8-ace0-6ff230ad3d79",
   "metadata": {},
   "outputs": [
    {
     "name": "stdout",
     "output_type": "stream",
     "text": [
      "  (0, 2)\t1\n",
      "  (0, 0)\t1\n",
      "  (0, 3)\t1\n",
      "  (1, 2)\t2\n",
      "  (1, 3)\t1\n",
      "  (1, 1)\t1\n"
     ]
    }
   ],
   "source": [
    "print(csr_matrix(b))"
   ]
  },
  {
   "cell_type": "code",
   "execution_count": 66,
   "id": "6574150a-a7c4-4841-ab17-2d4ee706c10e",
   "metadata": {
    "tags": []
   },
   "outputs": [
    {
     "data": {
      "text/html": [
       "<div>\n",
       "<style scoped>\n",
       "    .dataframe tbody tr th:only-of-type {\n",
       "        vertical-align: middle;\n",
       "    }\n",
       "\n",
       "    .dataframe tbody tr th {\n",
       "        vertical-align: top;\n",
       "    }\n",
       "\n",
       "    .dataframe thead th {\n",
       "        text-align: right;\n",
       "    }\n",
       "</style>\n",
       "<table border=\"1\" class=\"dataframe\">\n",
       "  <thead>\n",
       "    <tr style=\"text-align: right;\">\n",
       "      <th></th>\n",
       "      <th>0</th>\n",
       "      <th>1</th>\n",
       "      <th>2</th>\n",
       "      <th>3</th>\n",
       "      <th>4</th>\n",
       "      <th>5</th>\n",
       "      <th>6</th>\n",
       "    </tr>\n",
       "  </thead>\n",
       "  <tbody>\n",
       "    <tr>\n",
       "      <th>0</th>\n",
       "      <td>1.0</td>\n",
       "      <td>0.0</td>\n",
       "      <td>0.0</td>\n",
       "      <td>0.0</td>\n",
       "      <td>0.0</td>\n",
       "      <td>1.0</td>\n",
       "      <td>0.0</td>\n",
       "    </tr>\n",
       "    <tr>\n",
       "      <th>1</th>\n",
       "      <td>0.0</td>\n",
       "      <td>1.0</td>\n",
       "      <td>0.0</td>\n",
       "      <td>0.0</td>\n",
       "      <td>0.0</td>\n",
       "      <td>1.0</td>\n",
       "      <td>0.0</td>\n",
       "    </tr>\n",
       "    <tr>\n",
       "      <th>2</th>\n",
       "      <td>1.0</td>\n",
       "      <td>0.0</td>\n",
       "      <td>0.0</td>\n",
       "      <td>0.0</td>\n",
       "      <td>0.0</td>\n",
       "      <td>1.0</td>\n",
       "      <td>1.0</td>\n",
       "    </tr>\n",
       "    <tr>\n",
       "      <th>3</th>\n",
       "      <td>0.0</td>\n",
       "      <td>0.0</td>\n",
       "      <td>0.0</td>\n",
       "      <td>0.0</td>\n",
       "      <td>0.0</td>\n",
       "      <td>1.0</td>\n",
       "      <td>0.0</td>\n",
       "    </tr>\n",
       "    <tr>\n",
       "      <th>4</th>\n",
       "      <td>1.0</td>\n",
       "      <td>0.0</td>\n",
       "      <td>0.0</td>\n",
       "      <td>0.0</td>\n",
       "      <td>0.0</td>\n",
       "      <td>1.0</td>\n",
       "      <td>1.0</td>\n",
       "    </tr>\n",
       "  </tbody>\n",
       "</table>\n",
       "</div>"
      ],
      "text/plain": [
       "     0    1    2    3    4    5    6\n",
       "0  1.0  0.0  0.0  0.0  0.0  1.0  0.0\n",
       "1  0.0  1.0  0.0  0.0  0.0  1.0  0.0\n",
       "2  1.0  0.0  0.0  0.0  0.0  1.0  1.0\n",
       "3  0.0  0.0  0.0  0.0  0.0  1.0  0.0\n",
       "4  1.0  0.0  0.0  0.0  0.0  1.0  1.0"
      ]
     },
     "execution_count": 66,
     "metadata": {},
     "output_type": "execute_result"
    }
   ],
   "source": [
    "import pandas as pd\n",
    "from sklearn.preprocessing import OneHotEncoder\n",
    "\n",
    "# Assume we have a Pandas DataFrame called data with multiple categorical columns to be one-hot encoded\n",
    "\n",
    "# Create a OneHotEncoder object to encode the categorical data\n",
    "encoder = OneHotEncoder(sparse_output=False,drop='first')\n",
    "\n",
    "# Fit and transform the encoder on the data\n",
    "data_encoded = encoder.fit_transform(df[['level','subject','Free/Paid']])\n",
    "\n",
    "# The output data is a new DataFrame with the one-hot encoded features\n",
    "data_encoded = pd.DataFrame(data_encoded)\n",
    "\n",
    "data_encoded.head()"
   ]
  },
  {
   "cell_type": "code",
   "execution_count": 29,
   "id": "69eec228-0688-44ea-8d86-d80086757675",
   "metadata": {
    "tags": []
   },
   "outputs": [
    {
     "data": {
      "text/html": [
       "<div>\n",
       "<style scoped>\n",
       "    .dataframe tbody tr th:only-of-type {\n",
       "        vertical-align: middle;\n",
       "    }\n",
       "\n",
       "    .dataframe tbody tr th {\n",
       "        vertical-align: top;\n",
       "    }\n",
       "\n",
       "    .dataframe thead th {\n",
       "        text-align: right;\n",
       "    }\n",
       "</style>\n",
       "<table border=\"1\" class=\"dataframe\">\n",
       "  <thead>\n",
       "    <tr style=\"text-align: right;\">\n",
       "      <th></th>\n",
       "      <th>Unnamed: 0</th>\n",
       "      <th>course_id</th>\n",
       "      <th>course_title</th>\n",
       "      <th>url</th>\n",
       "      <th>price</th>\n",
       "      <th>num_subscribers</th>\n",
       "      <th>num_reviews</th>\n",
       "      <th>num_lectures</th>\n",
       "      <th>level</th>\n",
       "      <th>rating</th>\n",
       "      <th>content_duration</th>\n",
       "      <th>published_timestamp</th>\n",
       "      <th>subject</th>\n",
       "      <th>Date</th>\n",
       "      <th>Free/Paid</th>\n",
       "      <th>clean_sorted</th>\n",
       "      <th>vid</th>\n",
       "    </tr>\n",
       "  </thead>\n",
       "  <tbody>\n",
       "    <tr>\n",
       "      <th>0</th>\n",
       "      <td>0</td>\n",
       "      <td>41295</td>\n",
       "      <td>Learn HTML5 Programming From Scratch</td>\n",
       "      <td>https://www.udemy.com/learn-html5-programming-...</td>\n",
       "      <td>0</td>\n",
       "      <td>268923</td>\n",
       "      <td>8629</td>\n",
       "      <td>45</td>\n",
       "      <td>Beginner Level</td>\n",
       "      <td>0.82</td>\n",
       "      <td>10.5</td>\n",
       "      <td>2013-02-14T07:03:41Z</td>\n",
       "      <td>Web Development</td>\n",
       "      <td>2013-02-14</td>\n",
       "      <td>Free</td>\n",
       "      <td>Learn HTML Programming Scratch</td>\n",
       "      <td>vid1</td>\n",
       "    </tr>\n",
       "    <tr>\n",
       "      <th>1</th>\n",
       "      <td>1</td>\n",
       "      <td>59014</td>\n",
       "      <td>Coding for Entrepreneurs Basic</td>\n",
       "      <td>https://www.udemy.com/coding-for-entrepreneurs...</td>\n",
       "      <td>0</td>\n",
       "      <td>161029</td>\n",
       "      <td>279</td>\n",
       "      <td>27</td>\n",
       "      <td>Expert Level</td>\n",
       "      <td>0.69</td>\n",
       "      <td>3.5</td>\n",
       "      <td>2013-06-09T15:51:55Z</td>\n",
       "      <td>Web Development</td>\n",
       "      <td>2013-06-09</td>\n",
       "      <td>Free</td>\n",
       "      <td>Coding Entrepreneurs Basic</td>\n",
       "      <td>vid2</td>\n",
       "    </tr>\n",
       "    <tr>\n",
       "      <th>2</th>\n",
       "      <td>2</td>\n",
       "      <td>625204</td>\n",
       "      <td>The Web Developer Bootcamp</td>\n",
       "      <td>https://www.udemy.com/the-web-developer-bootcamp/</td>\n",
       "      <td>200</td>\n",
       "      <td>121584</td>\n",
       "      <td>27445</td>\n",
       "      <td>342</td>\n",
       "      <td>Beginner Level</td>\n",
       "      <td>0.89</td>\n",
       "      <td>43.0</td>\n",
       "      <td>2015-11-02T21:13:27Z</td>\n",
       "      <td>Web Development</td>\n",
       "      <td>2015-11-02</td>\n",
       "      <td>Paid</td>\n",
       "      <td>Web Developer Bootcamp</td>\n",
       "      <td>vid3</td>\n",
       "    </tr>\n",
       "    <tr>\n",
       "      <th>3</th>\n",
       "      <td>3</td>\n",
       "      <td>173548</td>\n",
       "      <td>Build Your First Website in 1 Week with HTML5 ...</td>\n",
       "      <td>https://www.udemy.com/build-your-first-website...</td>\n",
       "      <td>0</td>\n",
       "      <td>120291</td>\n",
       "      <td>5924</td>\n",
       "      <td>30</td>\n",
       "      <td>All Levels</td>\n",
       "      <td>0.78</td>\n",
       "      <td>3.0</td>\n",
       "      <td>2014-04-08T16:21:30Z</td>\n",
       "      <td>Web Development</td>\n",
       "      <td>2014-04-08</td>\n",
       "      <td>Free</td>\n",
       "      <td>Build First Website  Week HTML CSS</td>\n",
       "      <td>vid4</td>\n",
       "    </tr>\n",
       "    <tr>\n",
       "      <th>4</th>\n",
       "      <td>4</td>\n",
       "      <td>764164</td>\n",
       "      <td>The Complete Web Developer Course 2.0</td>\n",
       "      <td>https://www.udemy.com/the-complete-web-develop...</td>\n",
       "      <td>200</td>\n",
       "      <td>114512</td>\n",
       "      <td>22412</td>\n",
       "      <td>304</td>\n",
       "      <td>Beginner Level</td>\n",
       "      <td>0.55</td>\n",
       "      <td>30.5</td>\n",
       "      <td>2016-03-08T22:28:36Z</td>\n",
       "      <td>Web Development</td>\n",
       "      <td>2016-03-08</td>\n",
       "      <td>Paid</td>\n",
       "      <td>Complete Web Developer Course</td>\n",
       "      <td>vid1</td>\n",
       "    </tr>\n",
       "  </tbody>\n",
       "</table>\n",
       "</div>"
      ],
      "text/plain": [
       "   Unnamed: 0  course_id                                       course_title  \\\n",
       "0           0      41295               Learn HTML5 Programming From Scratch   \n",
       "1           1      59014                     Coding for Entrepreneurs Basic   \n",
       "2           2     625204                         The Web Developer Bootcamp   \n",
       "3           3     173548  Build Your First Website in 1 Week with HTML5 ...   \n",
       "4           4     764164              The Complete Web Developer Course 2.0   \n",
       "\n",
       "                                                 url  price  num_subscribers  \\\n",
       "0  https://www.udemy.com/learn-html5-programming-...      0           268923   \n",
       "1  https://www.udemy.com/coding-for-entrepreneurs...      0           161029   \n",
       "2  https://www.udemy.com/the-web-developer-bootcamp/    200           121584   \n",
       "3  https://www.udemy.com/build-your-first-website...      0           120291   \n",
       "4  https://www.udemy.com/the-complete-web-develop...    200           114512   \n",
       "\n",
       "   num_reviews  num_lectures           level  rating  content_duration  \\\n",
       "0         8629            45  Beginner Level    0.82              10.5   \n",
       "1          279            27    Expert Level    0.69               3.5   \n",
       "2        27445           342  Beginner Level    0.89              43.0   \n",
       "3         5924            30      All Levels    0.78               3.0   \n",
       "4        22412           304  Beginner Level    0.55              30.5   \n",
       "\n",
       "    published_timestamp          subject        Date Free/Paid  \\\n",
       "0  2013-02-14T07:03:41Z  Web Development  2013-02-14      Free   \n",
       "1  2013-06-09T15:51:55Z  Web Development  2013-06-09      Free   \n",
       "2  2015-11-02T21:13:27Z  Web Development  2015-11-02      Paid   \n",
       "3  2014-04-08T16:21:30Z  Web Development  2014-04-08      Free   \n",
       "4  2016-03-08T22:28:36Z  Web Development  2016-03-08      Paid   \n",
       "\n",
       "                         clean_sorted   vid  \n",
       "0      Learn HTML Programming Scratch  vid1  \n",
       "1          Coding Entrepreneurs Basic  vid2  \n",
       "2              Web Developer Bootcamp  vid3  \n",
       "3  Build First Website  Week HTML CSS  vid4  \n",
       "4      Complete Web Developer Course   vid1  "
      ]
     },
     "execution_count": 29,
     "metadata": {},
     "output_type": "execute_result"
    }
   ],
   "source": [
    "df.head()"
   ]
  },
  {
   "cell_type": "code",
   "execution_count": 67,
   "id": "acabe114-6dde-499c-9903-3e6236c176f4",
   "metadata": {
    "tags": []
   },
   "outputs": [],
   "source": [
    "from sklearn.preprocessing import RobustScaler\n",
    "scaler = RobustScaler()\n",
    "\n",
    "# Define the columns to normalize\n",
    "cols_to_normalize = [ 'rating','price']\n",
    "\n",
    "# Fit the scaler on the selected columns and transform the data\n",
    "df[cols_to_normalize]= scaler.fit_transform(df[cols_to_normalize])\n"
   ]
  },
  {
   "cell_type": "code",
   "execution_count": 68,
   "id": "1ea6d3dd-acd3-419b-a767-c88b29e4b547",
   "metadata": {
    "tags": []
   },
   "outputs": [
    {
     "data": {
      "text/html": [
       "<div>\n",
       "<style scoped>\n",
       "    .dataframe tbody tr th:only-of-type {\n",
       "        vertical-align: middle;\n",
       "    }\n",
       "\n",
       "    .dataframe tbody tr th {\n",
       "        vertical-align: top;\n",
       "    }\n",
       "\n",
       "    .dataframe thead th {\n",
       "        text-align: right;\n",
       "    }\n",
       "</style>\n",
       "<table border=\"1\" class=\"dataframe\">\n",
       "  <thead>\n",
       "    <tr style=\"text-align: right;\">\n",
       "      <th></th>\n",
       "      <th>rating</th>\n",
       "      <th>price</th>\n",
       "    </tr>\n",
       "  </thead>\n",
       "  <tbody>\n",
       "    <tr>\n",
       "      <th>0</th>\n",
       "      <td>0.092308</td>\n",
       "      <td>-0.600000</td>\n",
       "    </tr>\n",
       "    <tr>\n",
       "      <th>1</th>\n",
       "      <td>-0.107692</td>\n",
       "      <td>-0.600000</td>\n",
       "    </tr>\n",
       "    <tr>\n",
       "      <th>2</th>\n",
       "      <td>0.200000</td>\n",
       "      <td>2.066667</td>\n",
       "    </tr>\n",
       "    <tr>\n",
       "      <th>3</th>\n",
       "      <td>0.030769</td>\n",
       "      <td>-0.600000</td>\n",
       "    </tr>\n",
       "    <tr>\n",
       "      <th>4</th>\n",
       "      <td>-0.323077</td>\n",
       "      <td>2.066667</td>\n",
       "    </tr>\n",
       "    <tr>\n",
       "      <th>...</th>\n",
       "      <td>...</td>\n",
       "      <td>...</td>\n",
       "    </tr>\n",
       "    <tr>\n",
       "      <th>3664</th>\n",
       "      <td>0.292308</td>\n",
       "      <td>-0.066667</td>\n",
       "    </tr>\n",
       "    <tr>\n",
       "      <th>3665</th>\n",
       "      <td>0.292308</td>\n",
       "      <td>0.400000</td>\n",
       "    </tr>\n",
       "    <tr>\n",
       "      <th>3666</th>\n",
       "      <td>-0.615385</td>\n",
       "      <td>0.600000</td>\n",
       "    </tr>\n",
       "    <tr>\n",
       "      <th>3667</th>\n",
       "      <td>-0.938462</td>\n",
       "      <td>0.066667</td>\n",
       "    </tr>\n",
       "    <tr>\n",
       "      <th>3668</th>\n",
       "      <td>-0.892308</td>\n",
       "      <td>0.066667</td>\n",
       "    </tr>\n",
       "  </tbody>\n",
       "</table>\n",
       "<p>3648 rows × 2 columns</p>\n",
       "</div>"
      ],
      "text/plain": [
       "        rating     price\n",
       "0     0.092308 -0.600000\n",
       "1    -0.107692 -0.600000\n",
       "2     0.200000  2.066667\n",
       "3     0.030769 -0.600000\n",
       "4    -0.323077  2.066667\n",
       "...        ...       ...\n",
       "3664  0.292308 -0.066667\n",
       "3665  0.292308  0.400000\n",
       "3666 -0.615385  0.600000\n",
       "3667 -0.938462  0.066667\n",
       "3668 -0.892308  0.066667\n",
       "\n",
       "[3648 rows x 2 columns]"
      ]
     },
     "execution_count": 68,
     "metadata": {},
     "output_type": "execute_result"
    }
   ],
   "source": [
    "df[cols_to_normalize]"
   ]
  },
  {
   "cell_type": "code",
   "execution_count": 37,
   "id": "88ef961b-4d56-4f0b-978e-d422a4909d87",
   "metadata": {
    "tags": []
   },
   "outputs": [],
   "source": [
    "xx=df[cols_to_normalize].to_numpy()"
   ]
  },
  {
   "cell_type": "code",
   "execution_count": 38,
   "id": "6641168b-f826-4894-a5fc-03abf04df4ab",
   "metadata": {
    "tags": []
   },
   "outputs": [
    {
     "data": {
      "text/plain": [
       "array([[ 0.09230769, -0.6       ],\n",
       "       [-0.10769231, -0.6       ],\n",
       "       [ 0.2       ,  2.06666667],\n",
       "       ...,\n",
       "       [-0.61538462,  0.6       ],\n",
       "       [-0.93846154,  0.06666667],\n",
       "       [-0.89230769,  0.06666667]])"
      ]
     },
     "execution_count": 38,
     "metadata": {},
     "output_type": "execute_result"
    }
   ],
   "source": [
    "xx"
   ]
  },
  {
   "cell_type": "code",
   "execution_count": 40,
   "id": "393c41d6-8f73-4811-92d9-2a827ef19817",
   "metadata": {
    "tags": []
   },
   "outputs": [],
   "source": [
    "cc=data_encoded.to_numpy()"
   ]
  },
  {
   "cell_type": "code",
   "execution_count": 41,
   "id": "18700d94-4171-49cf-ae57-e25bb80bd9c2",
   "metadata": {
    "tags": []
   },
   "outputs": [
    {
     "data": {
      "text/plain": [
       "(3648, 7)"
      ]
     },
     "execution_count": 41,
     "metadata": {},
     "output_type": "execute_result"
    }
   ],
   "source": [
    "cc.shape"
   ]
  },
  {
   "cell_type": "code",
   "execution_count": 42,
   "id": "7b16d28b-fcbf-48fd-8692-aa98a001e207",
   "metadata": {
    "tags": []
   },
   "outputs": [],
   "source": [
    "vectorizer = CountVectorizer()\n",
    "content_data = vectorizer.fit_transform(df['clean_sorted']).toarray()\n"
   ]
  },
  {
   "cell_type": "code",
   "execution_count": 43,
   "id": "5d25af2e-9d5b-4db5-aaab-4c3d48ebb281",
   "metadata": {
    "tags": []
   },
   "outputs": [],
   "source": [
    "all_data = np.concatenate((content_data, cc), axis=1)\n",
    "all_data = np.concatenate((all_data, xx), axis=1)"
   ]
  },
  {
   "cell_type": "code",
   "execution_count": 56,
   "id": "aa9fbf72-f73e-4e0d-a08c-d1b9a72ac21f",
   "metadata": {
    "tags": []
   },
   "outputs": [],
   "source": [
    "cosine_sim = cosine_similarity(all_data)"
   ]
  },
  {
   "cell_type": "code",
   "execution_count": 57,
   "id": "baf12157-5ebc-4f5e-b9b8-21bc5142c463",
   "metadata": {
    "tags": []
   },
   "outputs": [],
   "source": [
    "cosine_sim1 = cosine_similarity(all_data,all_data)"
   ]
  },
  {
   "cell_type": "code",
   "execution_count": 46,
   "id": "22bbab5f-4da5-421d-9e6d-077199389719",
   "metadata": {
    "tags": []
   },
   "outputs": [
    {
     "data": {
      "text/plain": [
       "(3648, 3470)"
      ]
     },
     "execution_count": 46,
     "metadata": {},
     "output_type": "execute_result"
    }
   ],
   "source": [
    "all_data.shape"
   ]
  },
  {
   "cell_type": "code",
   "execution_count": 48,
   "id": "dd5d21c2-8c58-4e1a-89b6-56efcfc5d1a8",
   "metadata": {
    "tags": []
   },
   "outputs": [
    {
     "data": {
      "text/plain": [
       "(3648, 3470)"
      ]
     },
     "execution_count": 48,
     "metadata": {},
     "output_type": "execute_result"
    }
   ],
   "source": [
    "all_data.shape"
   ]
  },
  {
   "cell_type": "code",
   "execution_count": 50,
   "id": "3308deab-7448-41bc-825d-36428dbee130",
   "metadata": {
    "tags": []
   },
   "outputs": [
    {
     "name": "stdout",
     "output_type": "stream",
     "text": [
      "Model saved successfully!\n"
     ]
    }
   ],
   "source": [
    "import pickle\n",
    "file_path = \"cosine_similarity_model.pkl\"\n",
    "\n",
    "# Save the model using pickle\n",
    "with open(file_path, 'wb') as f:\n",
    "    pickle.dump(cosine_sim, f)\n",
    "    \n",
    "print(\"Model saved successfully!\")"
   ]
  },
  {
   "cell_type": "code",
   "execution_count": 61,
   "id": "1b7fe581-8c7a-4ced-bce0-eb83d714cb11",
   "metadata": {
    "tags": []
   },
   "outputs": [],
   "source": [
    "def get_recommendations(title, cosine_sim=cosine_sim):\n",
    "    indices = pd.Series(df.index, index=df['clean_sorted'])\n",
    "    idx = indices[title]\n",
    "    sim_scores = list(enumerate(cosine_sim[idx]))\n",
    "    sim_scores = sorted(sim_scores, key=lambda x: x[1], reverse=True)\n",
    "    sim_scores = sim_scores[0:6]\n",
    "    movie_indices = [i[0] for i in sim_scores]\n",
    "    return df[['course_title','url','price','num_subscribers','num_reviews','num_lectures','level','rating','subject','Free/Paid','vid','content_duration']].iloc[movie_indices]"
   ]
  },
  {
   "cell_type": "code",
   "execution_count": 52,
   "id": "e461d82e-94b1-4bb4-9cfc-0ae778bc53b4",
   "metadata": {
    "tags": []
   },
   "outputs": [
    {
     "data": {
      "text/plain": [
       "(3648, 3648)"
      ]
     },
     "execution_count": 52,
     "metadata": {},
     "output_type": "execute_result"
    }
   ],
   "source": [
    "cosine_sim.shape"
   ]
  },
  {
   "cell_type": "code",
   "execution_count": 58,
   "id": "ad06a61a-1ac2-4d01-ae16-12036c96c7f9",
   "metadata": {
    "tags": []
   },
   "outputs": [
    {
     "data": {
      "text/plain": [
       "(3648, 3648)"
      ]
     },
     "execution_count": 58,
     "metadata": {},
     "output_type": "execute_result"
    }
   ],
   "source": [
    "cosine_sim1.shape"
   ]
  },
  {
   "cell_type": "code",
   "execution_count": 60,
   "id": "d70fb65d-92eb-428e-b2ab-1ec55323e33f",
   "metadata": {
    "tags": []
   },
   "outputs": [
    {
     "data": {
      "text/plain": [
       "array([3648, 3648, 3648, ..., 3648, 3648, 3648])"
      ]
     },
     "execution_count": 60,
     "metadata": {},
     "output_type": "execute_result"
    }
   ],
   "source": []
  },
  {
   "cell_type": "code",
   "execution_count": 63,
   "id": "0aae7ac6-dc1e-4458-b7cd-895185241341",
   "metadata": {
    "tags": []
   },
   "outputs": [],
   "source": [
    "def x(strr):\n",
    "    text = strr.translate(str.maketrans('', '', string.punctuation))\n",
    "    words = word_tokenize(text)\n",
    "    stop_words = set(stopwords.words('english'))\n",
    "    filtered_words = ' '.join([word for word in words if word.lower() not in stop_words])\n",
    "    return re.sub(r'[^A-Za-z ]', '', filtered_words)"
   ]
  },
  {
   "cell_type": "code",
   "execution_count": 64,
   "id": "5f182a49-aff8-4d4e-bb18-3a0de528dd1a",
   "metadata": {
    "tags": []
   },
   "outputs": [
    {
     "data": {
      "text/html": [
       "<div>\n",
       "<style scoped>\n",
       "    .dataframe tbody tr th:only-of-type {\n",
       "        vertical-align: middle;\n",
       "    }\n",
       "\n",
       "    .dataframe tbody tr th {\n",
       "        vertical-align: top;\n",
       "    }\n",
       "\n",
       "    .dataframe thead th {\n",
       "        text-align: right;\n",
       "    }\n",
       "</style>\n",
       "<table border=\"1\" class=\"dataframe\">\n",
       "  <thead>\n",
       "    <tr style=\"text-align: right;\">\n",
       "      <th></th>\n",
       "      <th>course_title</th>\n",
       "      <th>url</th>\n",
       "      <th>price</th>\n",
       "      <th>num_subscribers</th>\n",
       "      <th>num_reviews</th>\n",
       "      <th>num_lectures</th>\n",
       "      <th>level</th>\n",
       "      <th>rating</th>\n",
       "      <th>subject</th>\n",
       "      <th>Free/Paid</th>\n",
       "      <th>vid</th>\n",
       "      <th>content_duration</th>\n",
       "    </tr>\n",
       "  </thead>\n",
       "  <tbody>\n",
       "    <tr>\n",
       "      <th>0</th>\n",
       "      <td>Learn HTML5 Programming From Scratch</td>\n",
       "      <td>https://www.udemy.com/learn-html5-programming-...</td>\n",
       "      <td>-0.600000</td>\n",
       "      <td>268923</td>\n",
       "      <td>8629</td>\n",
       "      <td>45</td>\n",
       "      <td>Beginner Level</td>\n",
       "      <td>0.092308</td>\n",
       "      <td>Web Development</td>\n",
       "      <td>Free</td>\n",
       "      <td>vid1</td>\n",
       "      <td>10.5</td>\n",
       "    </tr>\n",
       "    <tr>\n",
       "      <th>211</th>\n",
       "      <td>Learn HTML And CSS From Scratch</td>\n",
       "      <td>https://www.udemy.com/html-and-css-from-scratch/</td>\n",
       "      <td>-0.600000</td>\n",
       "      <td>11533</td>\n",
       "      <td>240</td>\n",
       "      <td>18</td>\n",
       "      <td>Beginner Level</td>\n",
       "      <td>-0.846154</td>\n",
       "      <td>Web Development</td>\n",
       "      <td>Free</td>\n",
       "      <td>vid4</td>\n",
       "      <td>2.0</td>\n",
       "    </tr>\n",
       "    <tr>\n",
       "      <th>543</th>\n",
       "      <td>Learn HTML Basics From Scratch</td>\n",
       "      <td>https://www.udemy.com/learn-html-from-scratch/</td>\n",
       "      <td>-0.600000</td>\n",
       "      <td>5004</td>\n",
       "      <td>52</td>\n",
       "      <td>21</td>\n",
       "      <td>All Levels</td>\n",
       "      <td>0.353846</td>\n",
       "      <td>Web Development</td>\n",
       "      <td>Free</td>\n",
       "      <td>vid4</td>\n",
       "      <td>3.0</td>\n",
       "    </tr>\n",
       "    <tr>\n",
       "      <th>626</th>\n",
       "      <td>Learn JavaScript from scratch</td>\n",
       "      <td>https://www.udemy.com/learn-javascript-from-sc...</td>\n",
       "      <td>-0.333333</td>\n",
       "      <td>4193</td>\n",
       "      <td>92</td>\n",
       "      <td>44</td>\n",
       "      <td>Beginner Level</td>\n",
       "      <td>0.200000</td>\n",
       "      <td>Web Development</td>\n",
       "      <td>Paid</td>\n",
       "      <td>vid3</td>\n",
       "      <td>2.5</td>\n",
       "    </tr>\n",
       "    <tr>\n",
       "      <th>367</th>\n",
       "      <td>HTML Introduction Course: Learn HTML in 2 hour...</td>\n",
       "      <td>https://www.udemy.com/html-introduction-course...</td>\n",
       "      <td>-0.600000</td>\n",
       "      <td>7304</td>\n",
       "      <td>368</td>\n",
       "      <td>28</td>\n",
       "      <td>Beginner Level</td>\n",
       "      <td>-0.184615</td>\n",
       "      <td>Web Development</td>\n",
       "      <td>Free</td>\n",
       "      <td>vid4</td>\n",
       "      <td>2.0</td>\n",
       "    </tr>\n",
       "    <tr>\n",
       "      <th>554</th>\n",
       "      <td>HTML CSS Learn to create a website from scratch</td>\n",
       "      <td>https://www.udemy.com/html-css-learn-to-create...</td>\n",
       "      <td>0.066667</td>\n",
       "      <td>4892</td>\n",
       "      <td>49</td>\n",
       "      <td>32</td>\n",
       "      <td>Beginner Level</td>\n",
       "      <td>0.353846</td>\n",
       "      <td>Web Development</td>\n",
       "      <td>Paid</td>\n",
       "      <td>vid3</td>\n",
       "      <td>2.0</td>\n",
       "    </tr>\n",
       "  </tbody>\n",
       "</table>\n",
       "</div>"
      ],
      "text/plain": [
       "                                          course_title  \\\n",
       "0                 Learn HTML5 Programming From Scratch   \n",
       "211                    Learn HTML And CSS From Scratch   \n",
       "543                     Learn HTML Basics From Scratch   \n",
       "626                      Learn JavaScript from scratch   \n",
       "367  HTML Introduction Course: Learn HTML in 2 hour...   \n",
       "554    HTML CSS Learn to create a website from scratch   \n",
       "\n",
       "                                                   url     price  \\\n",
       "0    https://www.udemy.com/learn-html5-programming-... -0.600000   \n",
       "211   https://www.udemy.com/html-and-css-from-scratch/ -0.600000   \n",
       "543     https://www.udemy.com/learn-html-from-scratch/ -0.600000   \n",
       "626  https://www.udemy.com/learn-javascript-from-sc... -0.333333   \n",
       "367  https://www.udemy.com/html-introduction-course... -0.600000   \n",
       "554  https://www.udemy.com/html-css-learn-to-create...  0.066667   \n",
       "\n",
       "     num_subscribers  num_reviews  num_lectures           level    rating  \\\n",
       "0             268923         8629            45  Beginner Level  0.092308   \n",
       "211            11533          240            18  Beginner Level -0.846154   \n",
       "543             5004           52            21      All Levels  0.353846   \n",
       "626             4193           92            44  Beginner Level  0.200000   \n",
       "367             7304          368            28  Beginner Level -0.184615   \n",
       "554             4892           49            32  Beginner Level  0.353846   \n",
       "\n",
       "             subject Free/Paid   vid  content_duration  \n",
       "0    Web Development      Free  vid1              10.5  \n",
       "211  Web Development      Free  vid4               2.0  \n",
       "543  Web Development      Free  vid4               3.0  \n",
       "626  Web Development      Paid  vid3               2.5  \n",
       "367  Web Development      Free  vid4               2.0  \n",
       "554  Web Development      Paid  vid3               2.0  "
      ]
     },
     "execution_count": 64,
     "metadata": {},
     "output_type": "execute_result"
    }
   ],
   "source": [
    "get_recommendations(x('Learn HTML5 Programming From Scratch'))"
   ]
  },
  {
   "cell_type": "code",
   "execution_count": null,
   "id": "495a435d-9ee3-4d26-ad88-19c06539dd19",
   "metadata": {},
   "outputs": [],
   "source": []
  }
 ],
 "metadata": {
  "kernelspec": {
   "display_name": "Python 3 (ipykernel)",
   "language": "python",
   "name": "python3"
  },
  "language_info": {
   "codemirror_mode": {
    "name": "ipython",
    "version": 3
   },
   "file_extension": ".py",
   "mimetype": "text/x-python",
   "name": "python",
   "nbconvert_exporter": "python",
   "pygments_lexer": "ipython3",
   "version": "3.10.6"
  }
 },
 "nbformat": 4,
 "nbformat_minor": 5
}
